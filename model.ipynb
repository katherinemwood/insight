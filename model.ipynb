{
 "cells": [
  {
   "cell_type": "code",
   "execution_count": 1,
   "metadata": {},
   "outputs": [],
   "source": [
    "import pandas as pd\n",
    "import numpy as np\n",
    "import matplotlib.pyplot as plt\n",
    "import seaborn as sns\n",
    "import sklearn, nltk, datetime, re, warnings, pickle, scipy\n",
    "from imblearn.over_sampling import SMOTE\n",
    "from imblearn.pipeline import Pipeline, make_pipeline\n",
    "from sklearn.model_selection import train_test_split, StratifiedKFold, GridSearchCV, cross_val_score\n",
    "from sklearn.feature_extraction.text import TfidfVectorizer\n",
    "from sklearn.linear_model import LogisticRegression\n",
    "from sklearn.metrics import auc\n",
    "from scipy import interp"
   ]
  },
  {
   "cell_type": "code",
   "execution_count": 2,
   "metadata": {},
   "outputs": [],
   "source": [
    "#Get an overview of a handful of metrics, given ground truth and predicted labels.\n",
    "def evaluate_performance(observed, predicted):\n",
    "    accuracy = sklearn.metrics.accuracy_score(observed, predicted)\n",
    "    precision = sklearn.metrics.precision_score(observed, predicted)\n",
    "    recall = sklearn.metrics.recall_score(observed, predicted)\n",
    "    f1 = sklearn.metrics.f1_score(observed, predicted)\n",
    "    mcc = sklearn.metrics.matthews_corrcoef(observed, predicted, sample_weight=None)\n",
    "    auc = sklearn.metrics.roc_auc_score(observed, predicted)\n",
    "    return({'Accuracy':accuracy, 'Precision':precision, 'Recall':recall, 'F1':f1, 'MCC':mcc, 'AUC':auc})"
   ]
  },
  {
   "cell_type": "code",
   "execution_count": 3,
   "metadata": {},
   "outputs": [],
   "source": [
    "#Contraction dictionary for expansion\n",
    "cList = {\n",
    "  \"ain't\": \"am not\",\n",
    "  \"aren't\": \"are not\",\n",
    "  \"can't\": \"cannot\",\n",
    "  \"can't've\": \"cannot have\",\n",
    "  \"'cause\": \"because\",\n",
    "  \"could've\": \"could have\",\n",
    "  \"couldn't\": \"could not\",\n",
    "  \"couldn't've\": \"could not have\",\n",
    "  \"didn't\": \"did not\",\n",
    "  \"doesn't\": \"does not\",\n",
    "  \"don't\": \"do not\",\n",
    "  \"hadn't\": \"had not\",\n",
    "  \"hadn't've\": \"had not have\",\n",
    "  \"hasn't\": \"has not\",\n",
    "  \"haven't\": \"have not\",\n",
    "  \"he'd\": \"he would\",\n",
    "  \"he'd've\": \"he would have\",\n",
    "  \"he'll\": \"he will\",\n",
    "  \"he'll've\": \"he will have\",\n",
    "  \"he's\": \"he is\",\n",
    "  \"how'd\": \"how did\",\n",
    "  \"how'd'y\": \"how do you\",\n",
    "  \"how'll\": \"how will\",\n",
    "  \"how's\": \"how is\",\n",
    "  \"I'd\": \"I would\",\n",
    "  \"I'd've\": \"I would have\",\n",
    "  \"I'll\": \"I will\",\n",
    "  \"I'll've\": \"I will have\",\n",
    "  \"I'm\": \"I am\",\n",
    "  \"I've\": \"I have\",\n",
    "  \"isn't\": \"is not\",\n",
    "  \"it'd\": \"it had\",\n",
    "  \"it'd've\": \"it would have\",\n",
    "  \"it'll\": \"it will\",\n",
    "  \"it'll've\": \"it will have\",\n",
    "  \"it's\": \"it is\",\n",
    "  \"let's\": \"let us\",\n",
    "  \"ma'am\": \"madam\",\n",
    "  \"mayn't\": \"may not\",\n",
    "  \"might've\": \"might have\",\n",
    "  \"mightn't\": \"might not\",\n",
    "  \"mightn't've\": \"might not have\",\n",
    "  \"must've\": \"must have\",\n",
    "  \"mustn't\": \"must not\",\n",
    "  \"mustn't've\": \"must not have\",\n",
    "  \"needn't\": \"need not\",\n",
    "  \"needn't've\": \"need not have\",\n",
    "  \"o'clock\": \"of the clock\",\n",
    "  \"oughtn't\": \"ought not\",\n",
    "  \"oughtn't've\": \"ought not have\",\n",
    "  \"shan't\": \"shall not\",\n",
    "  \"sha'n't\": \"shall not\",\n",
    "  \"shan't've\": \"shall not have\",\n",
    "  \"she'd\": \"she would\",\n",
    "  \"she'd've\": \"she would have\",\n",
    "  \"she'll\": \"she will\",\n",
    "  \"she'll've\": \"she will have\",\n",
    "  \"she's\": \"she is\",\n",
    "  \"should've\": \"should have\",\n",
    "  \"shouldn't\": \"should not\",\n",
    "  \"shouldn't've\": \"should not have\",\n",
    "  \"so've\": \"so have\",\n",
    "  \"so's\": \"so is\",\n",
    "  \"that'd\": \"that would\",\n",
    "  \"that'd've\": \"that would have\",\n",
    "  \"that's\": \"that is\",\n",
    "  \"there'd\": \"there had\",\n",
    "  \"there'd've\": \"there would have\",\n",
    "  \"there's\": \"there is\",\n",
    "  \"they'd\": \"they would\",\n",
    "  \"they'd've\": \"they would have\",\n",
    "  \"they'll\": \"they will\",\n",
    "  \"they'll've\": \"they will have\",\n",
    "  \"they're\": \"they are\",\n",
    "  \"they've\": \"they have\",\n",
    "  \"to've\": \"to have\",\n",
    "  \"wasn't\": \"was not\",\n",
    "  \"we'd\": \"we had\",\n",
    "  \"we'd've\": \"we would have\",\n",
    "  \"we'll\": \"we will\",\n",
    "  \"we'll've\": \"we will have\",\n",
    "  \"we're\": \"we are\",\n",
    "  \"we've\": \"we have\",\n",
    "  \"weren't\": \"were not\",\n",
    "  \"what'll\": \"what will\",\n",
    "  \"what'll've\": \"what will have\",\n",
    "  \"what're\": \"what are\",\n",
    "  \"what's\": \"what is\",\n",
    "  \"what've\": \"what have\",\n",
    "  \"when's\": \"when is\",\n",
    "  \"when've\": \"when have\",\n",
    "  \"where'd\": \"where did\",\n",
    "  \"where's\": \"where is\",\n",
    "  \"where've\": \"where have\",\n",
    "  \"who'll\": \"who will\",\n",
    "  \"who'll've\": \"who will have\",\n",
    "  \"who's\": \"who is\",\n",
    "  \"who've\": \"who have\",\n",
    "  \"why's\": \"why is\",\n",
    "  \"why've\": \"why have\",\n",
    "  \"will've\": \"will have\",\n",
    "  \"won't\": \"will not\",\n",
    "  \"won't've\": \"will not have\",\n",
    "  \"would've\": \"would have\",\n",
    "  \"wouldn't\": \"would not\",\n",
    "  \"wouldn't've\": \"would not have\",\n",
    "  \"y'all\": \"you all\",\n",
    "  \"y'alls\": \"you alls\",\n",
    "  \"y'all'd\": \"you all would\",\n",
    "  \"y'all'd've\": \"you all would have\",\n",
    "  \"y'all're\": \"you all are\",\n",
    "  \"y'all've\": \"you all have\",\n",
    "  \"you'd\": \"you had\",\n",
    "  \"you'd've\": \"you would have\",\n",
    "  \"you'll\": \"you you will\",\n",
    "  \"you'll've\": \"you you will have\",\n",
    "  \"you're\": \"you are\",\n",
    "  \"you've\": \"you have\"\n",
    "}\n",
    "\n",
    "c_re = re.compile('(%s)' % '|'.join(cList.keys()))\n",
    "\n",
    "#Expand contractions to individual words\n",
    "def expandContractions(text, c_re=c_re):\n",
    "    def replace(match):\n",
    "        return cList[match.group(0)]\n",
    "    return c_re.sub(replace, text)\n",
    "\n",
    "#Return a dataframe with the specified text field cleaned up.\n",
    "def clean_text(df, text_field):     \n",
    "    # taken from 'How to Solve 90% of NLP Problems' \n",
    "    # remove links\n",
    "    df[text_field] = df[text_field].fillna('')\n",
    "    df[text_field] = df[text_field].str.replace(r\"http\\S+\", \"\")\n",
    "    df[text_field] = df[text_field].str.replace(r\"http\", \"\")\n",
    "    #remove weird characters\n",
    "    df[text_field] = df[text_field].str.replace(r\"[^A-Za-z0-9(),!?@\\'\\`\\\"\\_\\n\\(\\)]\", \" \")\n",
    "    df[text_field] = df[text_field].str.replace(r\"@\", \"at\")\n",
    "    df[text_field] = df[text_field].str.replace(r\"amp\", \"and\")\n",
    "\n",
    "    df[text_field] = df[text_field].str.lower()\n",
    "    df[text_field] = df[text_field].apply(lambda x: expandContractions(x))\n",
    "    \n",
    "    return df\n",
    "\n",
    "#Return the tf-idf embedding for a set of text.\n",
    "def tv(data):\n",
    "    vectorizer = TfidfVectorizer()\n",
    "    emb = vectorizer.fit_transform(data)\n",
    "    return emb, vectorizer"
   ]
  },
  {
   "cell_type": "code",
   "execution_count": 4,
   "metadata": {},
   "outputs": [],
   "source": [
    "#Load the data and clean the text.\n",
    "raw_data = pd.read_csv('streamlit_app/clean_labeled_data.csv', encoding=\"ISO-8859-1\", dtype='object')\n",
    "raw_data['exchange_text'] = raw_data['Incident Description'].astype(str) + raw_data['Answer Explanation'].astype(str) + raw_data['Company Comments'].astype(str) + raw_data['Product Description'].astype(str)\n",
    "cleaned_text = clean_text(raw_data, 'exchange_text')\n",
    "\n",
    "cleaned_text = clean_text(raw_data, 'exchange_text')"
   ]
  },
  {
   "cell_type": "code",
   "execution_count": 5,
   "metadata": {},
   "outputs": [],
   "source": [
    "#Separate data into samples and labels.\n",
    "list_corpus = cleaned_text[\"exchange_text\"].tolist()\n",
    "list_labels = (cleaned_text[\"labels\"].values.astype(int) > 0).astype(int).tolist()"
   ]
  },
  {
   "cell_type": "code",
   "execution_count": 6,
   "metadata": {},
   "outputs": [],
   "source": [
    "#Vectorize the text.\n",
    "tf_corpus, tfidf_vectorizer = tv(list_corpus)"
   ]
  },
  {
   "cell_type": "code",
   "execution_count": 7,
   "metadata": {},
   "outputs": [],
   "source": [
    "#Make a train-test split; cross-validate on train, test on completely held out data.\n",
    "X_train, X_test, y_train, y_test = train_test_split(tf_corpus, list_labels, test_size=0.1, random_state=13)"
   ]
  },
  {
   "cell_type": "code",
   "execution_count": 8,
   "metadata": {},
   "outputs": [],
   "source": [
    "#Upsample data with SMOTE and cross-validate.\n",
    "#Using the imblearn pipeline correctly upsamples only\n",
    "#the training set on each cv fold, and not the test set.\n",
    "imba_pipeline = make_pipeline(SMOTE(random_state=13), \n",
    "                              LogisticRegression(C=.1, penalty='l2', solver='newton-cg', \n",
    "                                                 multi_class='multinomial', n_jobs=-1, random_state=13))\n",
    "cv_scores = cross_val_score(imba_pipeline, X_train, y_train, scoring='recall', cv=5)"
   ]
  },
  {
   "cell_type": "code",
   "execution_count": 9,
   "metadata": {},
   "outputs": [
    {
     "data": {
      "text/plain": [
       "0.6309885931558934"
      ]
     },
     "execution_count": 9,
     "metadata": {},
     "output_type": "execute_result"
    }
   ],
   "source": [
    "np.mean(cv_scores)"
   ]
  },
  {
   "cell_type": "code",
   "execution_count": 10,
   "metadata": {},
   "outputs": [
    {
     "data": {
      "text/plain": [
       "{'Accuracy': 0.790373044524669,\n",
       " 'Precision': 0.35790494665373423,\n",
       " 'Recall': 0.6384083044982699,\n",
       " 'F1': 0.4586699813548788,\n",
       " 'MCC': 0.3632116126580454,\n",
       " 'AUC': 0.7266685078543907}"
      ]
     },
     "execution_count": 10,
     "metadata": {},
     "output_type": "execute_result"
    }
   ],
   "source": [
    "#Test on completely held-out data.\n",
    "sm = SMOTE(random_state=13)\n",
    "X_train_upsample, y_train_upsample = sm.fit_resample(X_train, y_train)\n",
    "logreg = LogisticRegression(C=.1, penalty='l2', solver='newton-cg', multi_class='multinomial', n_jobs=-1, random_state=13)\n",
    "logreg.fit(X_train_upsample, y_train_upsample)\n",
    "y_pred = logreg.predict(X_test)\n",
    "evaluate_performance(y_test, y_pred)"
   ]
  },
  {
   "cell_type": "code",
   "execution_count": 11,
   "metadata": {},
   "outputs": [],
   "source": [
    "#Generate the ROC curve.\n",
    "probs = logreg.predict_proba(X_test)\n",
    "preds = probs[:,1]\n",
    "fpr, tpr, threshold = sklearn.metrics.roc_curve(y_test, preds)\n",
    "roc_auc = sklearn.metrics.auc(fpr, tpr)"
   ]
  },
  {
   "cell_type": "code",
   "execution_count": null,
   "metadata": {},
   "outputs": [],
   "source": [
    "#Plot the ROC curve.\n",
    "sns.set_style('whitegrid')\n",
    "sns.set_context('poster')\n",
    "ax=sns.lineplot(x=fpr, y=tpr)\n",
    "ax.set(xlabel='False Positive Rate', ylabel='True Positive Rate')\n",
    "sns.despine()\n",
    "plt.plot([0, 1], [0, 1], linewidth=2, linestyle='--', color='red')\n",
    "plt.plot([0, 0], [0, 1], linewidth=2, linestyle='--', color='black')\n",
    "plt.plot([0, 1], [1, 1], linewidth=2, linestyle='--', color='black')"
   ]
  },
  {
   "cell_type": "code",
   "execution_count": null,
   "metadata": {},
   "outputs": [],
   "source": [
    "#Train the model on all available data for pickling\n",
    "X = tf_corpus\n",
    "y = list_labels\n",
    "X_upsample, y_upsample = sm.fit_resample(X, y)\n",
    "logreg_full = LogisticRegression(C=.1, penalty='l2', solver='newton-cg',multi_class='multinomial', n_jobs=-1, random_state=13)\n",
    "logreg_full.fit(X_upsample, y_upsample)"
   ]
  },
  {
   "cell_type": "code",
   "execution_count": null,
   "metadata": {},
   "outputs": [],
   "source": [
    "#Pickle the model.\n",
    "filename = 'streamlit_app/trained_model.sav'\n",
    "pickle.dump(logreg_full, open(filename, 'wb'))"
   ]
  }
 ],
 "metadata": {
  "kernelspec": {
   "display_name": "Python 3",
   "language": "python",
   "name": "python3"
  },
  "language_info": {
   "codemirror_mode": {
    "name": "ipython",
    "version": 3
   },
   "file_extension": ".py",
   "mimetype": "text/x-python",
   "name": "python",
   "nbconvert_exporter": "python",
   "pygments_lexer": "ipython3",
   "version": "3.7.4"
  }
 },
 "nbformat": 4,
 "nbformat_minor": 2
}
